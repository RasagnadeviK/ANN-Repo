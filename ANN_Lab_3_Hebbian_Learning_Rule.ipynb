{
  "nbformat": 4,
  "nbformat_minor": 0,
  "metadata": {
    "colab": {
      "provenance": [],
      "authorship_tag": "ABX9TyNRdA/+Pallneib46YQTCLt",
      "include_colab_link": true
    },
    "kernelspec": {
      "name": "python3",
      "display_name": "Python 3"
    },
    "language_info": {
      "name": "python"
    }
  },
  "cells": [
    {
      "cell_type": "markdown",
      "metadata": {
        "id": "view-in-github",
        "colab_type": "text"
      },
      "source": [
        "<a href=\"https://colab.research.google.com/github/RasagnadeviK/ANN-Repo/blob/main/ANN_Lab_3_Hebbian_Learning_Rule.ipynb\" target=\"_parent\"><img src=\"https://colab.research.google.com/assets/colab-badge.svg\" alt=\"Open In Colab\"/></a>"
      ]
    },
    {
      "cell_type": "code",
      "source": [
        "\n",
        "import random\n",
        "\n",
        "#AND Truth Table ((x,y),output)\n",
        "andset=[([0, 0], 0), ([0, 1], 0), ([1, 0], 0), ([1, 1], 1)]\n",
        "\n",
        "wt=[random.uniform(-1, 1) for _ in range(2)]\n",
        "\n",
        "def wtsums(andset):\n",
        "  wtn=[0]*len(andset)\n",
        "  b=0\n",
        "  for i,j in andset:\n",
        "    for x in range(len(i)):\n",
        "#      print('xi:',i[x],'y:',j)\n",
        "      temp=wt[x]+i[x]*j\n",
        "      wtn.append(temp)\n",
        "      b=b+j\n",
        "    print('B is :',b)\n",
        "  print('Direct printing:\\n',wtn)\n",
        "  print(\"Loop printing:\\n\")\n",
        "  for i in wtn:\n",
        "    print(i)\n",
        "\n",
        "wtsums(andset)\n"
      ],
      "metadata": {
        "colab": {
          "base_uri": "https://localhost:8080/"
        },
        "id": "LbVogefr2m_O",
        "outputId": "32c8de3a-6d7b-421f-bb63-76eacbe0bada"
      },
      "execution_count": null,
      "outputs": [
        {
          "output_type": "stream",
          "name": "stdout",
          "text": [
            "J is: 0\n",
            "B is : 0\n",
            "J is: 0\n",
            "B is : 0\n",
            "J is: 0\n",
            "B is : 0\n",
            "J is: 1\n",
            "B is : 2\n",
            "Direct printing:\n",
            " [0, 0, 0, 0, -0.5973062789852592, 0.9131248772695049, -0.5973062789852592, 0.9131248772695049, -0.5973062789852592, 0.9131248772695049, 0.40269372101474077, 1.9131248772695049]\n",
            "Loop printing:\n",
            "\n",
            "0\n",
            "0\n",
            "0\n",
            "0\n",
            "-0.5973062789852592\n",
            "0.9131248772695049\n",
            "-0.5973062789852592\n",
            "0.9131248772695049\n",
            "-0.5973062789852592\n",
            "0.9131248772695049\n",
            "0.40269372101474077\n",
            "1.9131248772695049\n"
          ]
        }
      ]
    },
    {
      "cell_type": "code",
      "source": [
        "import numpy as np\n",
        "W = np.array([1,-1,0,0.5]).transpose()\n",
        "Xi = [np.array([1,-2,1.5,0]).transpose(),np.array([1,-0.5,-2,-1.5]).transpose(), np.array([0,1,-1,1.5]).transpose()]\n",
        "c = 1\n",
        "Iter= 0\n",
        "for i in range(len(Xi)):\n",
        "    net = sum(W.transpose()*Xi[i])\n",
        "    Fnet = np.sign(net)\n",
        "    dw = c * Fnet * Xi[i]\n",
        "    W = W + dw\n",
        "    Iter += 1\n",
        "print(\"Final weight matrix : {}\".format(W))\n",
        "print(Iter)"
      ],
      "metadata": {
        "colab": {
          "base_uri": "https://localhost:8080/"
        },
        "id": "YgBj7WMTIiCp",
        "outputId": "4a4bd0f9-baee-4698-f958-1462f24d5503"
      },
      "execution_count": null,
      "outputs": [
        {
          "output_type": "stream",
          "name": "stdout",
          "text": [
            "Final weight matrix : [ 1.  -3.5  4.5  0.5]\n",
            "3\n"
          ]
        }
      ]
    }
  ]
}