{
  "nbformat": 4,
  "nbformat_minor": 0,
  "metadata": {
    "colab": {
      "provenance": [],
      "authorship_tag": "ABX9TyOpbD4PleWgXbEaZl/JLt4e",
      "include_colab_link": true
    },
    "kernelspec": {
      "name": "python3",
      "display_name": "Python 3"
    },
    "language_info": {
      "name": "python"
    }
  },
  "cells": [
    {
      "cell_type": "markdown",
      "metadata": {
        "id": "view-in-github",
        "colab_type": "text"
      },
      "source": [
        "<a href=\"https://colab.research.google.com/github/RasagnadeviK/ANN-Repo/blob/main/ANN_Lab_1_MP%2CPerceptron_Model.ipynb\" target=\"_parent\"><img src=\"https://colab.research.google.com/assets/colab-badge.svg\" alt=\"Open In Colab\"/></a>"
      ]
    },
    {
      "cell_type": "code",
      "execution_count": null,
      "metadata": {
        "colab": {
          "base_uri": "https://localhost:8080/"
        },
        "id": "3wk69C1j8Xf4",
        "outputId": "975b37e5-389c-4ff1-e666-89bc440ee1ac"
      },
      "outputs": [
        {
          "output_type": "stream",
          "name": "stdout",
          "text": [
            "Enter threshould value (range: -1 to 1):0.5\n",
            "weights sum is : 3.7011664164041447\n",
            "MP Model value is : 1\n"
          ]
        }
      ],
      "source": [
        "#MP MODEL\n",
        "\n",
        "import random\n",
        "\n",
        "#XOR Truth table ((x,y),output)\n",
        "xorset=[([0, 0], 0), ([0, 1], 1), ([1, 0], 1), ([1, 1], 0)]\n",
        "\n",
        "#OR Truth Table ((x,y),output)\n",
        "orset=[([0, 0], 0), ([0, 1], 1), ([1, 0], 1), ([1, 1], 1)]\n",
        "\n",
        "#AND Truth Table ((x,y),output)\n",
        "andset=[([0, 0], 0), ([0, 1], 0), ([1, 0], 0), ([1, 1], 1)]\n",
        "\n",
        "#NOT Truth Table ((x),output)\n",
        "notset=[([0],1),([1],0)]\n",
        "\n",
        "andthset=[([0,0,0],0),([0,0,1],0),([0,1,0],0),([0,1,1],0),([1,0,0],0),([1,0,1],0),([1,1,0],0),([1,1,1],1)]\n",
        "\n",
        "#wt=[random.uniform(-1, 1) for _ in range(3)]\n",
        "#thre=float(input('Enter threshould value (range: -1 to 1):'))\n",
        "wt=[1,1]\n",
        "thre=-0.5\n",
        "\n",
        "def wtsums(andthset):\n",
        "  wtsum=0\n",
        "  for i,j in andthset:\n",
        "    for x in range(len(i)):\n",
        "      temp=wt[x]*i[x]\n",
        "      wtsum+=temp\n",
        "  return wtsum\n",
        "\n",
        "def resultfun(wtsum,thre):\n",
        "  if(wtsum >= thre):\n",
        "    return 1\n",
        "  else:\n",
        "    return 0\n",
        "\n",
        "wtsum=wtsums(andset)\n",
        "print('weights sum is :',wtsum)\n",
        "print('MP Model value is :',resultfun(wtsum,thre))\n",
        "\n",
        "\n"
      ]
    },
    {
      "cell_type": "code",
      "source": [
        "3#MP MODEL\n",
        "\n",
        "import random\n",
        "\n",
        "#XOR Truth table ((x,y),output)\n",
        "xorset=[([0, 0], 0), ([0, 1], 1), ([1, 0], 1), ([1, 1], 0)]\n",
        "\n",
        "#OR Truth Table ((x,y),output)\n",
        "orset=[([0, 0], 0), ([0, 1], 1), ([1, 0], 1), ([1, 1], 1)]\n",
        "\n",
        "#AND Truth Table ((x,y),output)\n",
        "andset=[([0, 0], 0), ([0, 1], 0), ([1, 0], 0), ([1, 1], 1)]\n",
        "\n",
        "wt=[1,1]\n",
        "thre=-0.5\n",
        "\n",
        "def wtsums(andthset):\n",
        "  wtsum=0\n",
        "  for i,j in andthset:\n",
        "    temp=0\n",
        "    for x in range(len(i)):\n",
        "      temp+=wt[x]*i[x]\n",
        "    temp+=thre\n",
        "    print(resultfun(temp,thre))\n",
        "\n",
        "def resultfun(wtsum,thre):\n",
        "  if(thre<0):\n",
        "    t=-thre\n",
        "  else:\n",
        "    t=thre\n",
        "  if(wtsum >= t):\n",
        "    return 1\n",
        "  else:\n",
        "    return 0\n",
        "\n",
        "wtsums(orset)\n"
      ],
      "metadata": {
        "colab": {
          "base_uri": "https://localhost:8080/"
        },
        "id": "wSEKXz8t7hty",
        "outputId": "bc141021-1704-4cdd-ee94-da8c493fd513"
      },
      "execution_count": null,
      "outputs": [
        {
          "output_type": "stream",
          "name": "stdout",
          "text": [
            "0\n",
            "1\n",
            "1\n",
            "1\n"
          ]
        }
      ]
    },
    {
      "cell_type": "code",
      "source": [
        "#PERCEPTRON MODEL\n",
        "\n",
        "import random\n",
        "import matplotlib.pyplot as plt\n",
        "\n",
        "#XOR Truth table ((x,y),output)\n",
        "\n",
        "xorset=[([0, 0], 0), ([0, 1], 1), ([1, 0], 1), ([1, 1], 0)]\n",
        "\n",
        "wt=[random.uniform(-1, 1) for _ in range(2)]\n",
        "thre=float(input('Enter threshould value (range: -1 to 1):'))\n",
        "\n",
        "def sigmoid(n):\n",
        "  x=1+pow(2.71828,-n)\n",
        "  return 1/x\n",
        "\n",
        "def wtsums(xorset):\n",
        "  wtsum=0\n",
        "  for i,j in xorset:\n",
        "    for x in range(len(i)):\n",
        "      temp=wt[x]*i[x]\n",
        "      wtsum+=temp\n",
        "  return wtsum\n",
        "\n",
        "wtsum=wtsums(xorset)\n",
        "print('weights sum is :',wtsum)\n",
        "\n",
        "wtsum+=thre\n",
        "print('Percepton Model:',sigmoid(wtsum))\n",
        "\n"
      ],
      "metadata": {
        "colab": {
          "base_uri": "https://localhost:8080/",
          "height": 482
        },
        "id": "G5PnT1JtoMYf",
        "outputId": "aa84181b-fa5a-49bc-a91d-45af9a2c17fe"
      },
      "execution_count": null,
      "outputs": [
        {
          "output_type": "stream",
          "name": "stdout",
          "text": [
            "Enter threshould value (range: -1 to 1):0.3214\n",
            "weights sum is : 2.2660796980866538\n",
            "Percepton Model: 0.9300513213338065\n"
          ]
        },
        {
          "output_type": "display_data",
          "data": {
            "text/plain": [
              "<Figure size 640x480 with 1 Axes>"
            ],
            "image/png": "[encoded data removed]"
          },
          "metadata": {}
        }
      ]
    }
  ]
}