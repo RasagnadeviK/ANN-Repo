{
  "nbformat": 4,
  "nbformat_minor": 0,
  "metadata": {
    "colab": {
      "provenance": [],
      "authorship_tag": "ABX9TyMVwKLa9HwaOQ8XVZU/r46G",
      "include_colab_link": true
    },
    "kernelspec": {
      "name": "python3",
      "display_name": "Python 3"
    },
    "language_info": {
      "name": "python"
    }
  },
  "cells": [
    {
      "cell_type": "markdown",
      "metadata": {
        "id": "view-in-github",
        "colab_type": "text"
      },
      "source": [
        "<a href=\"https://colab.research.google.com/github/RasagnadeviK/ANN-Repo/blob/main/ANN_LAB_2_Activation_Functions.ipynb\" target=\"_parent\"><img src=\"https://colab.research.google.com/assets/colab-badge.svg\" alt=\"Open In Colab\"/></a>"
      ]
    },
    {
      "cell_type": "code",
      "source": [
        "#XOR_Truth_Table\n",
        "exset=[([0, 0], 0), ([0, 1], 1), ([1, 0], 1), ([1, 1], 0)]\n",
        "\n",
        "#OR Truth Table ((x,y),output)\n",
        "orset=[([0, 0], 0), ([0, 1], 1), ([1, 0], 1), ([1, 1], 1)]\n",
        "\n",
        "#AND Truth Table ((x,y),output)\n",
        "andset=[([0, 0], 0), ([0, 1], 0), ([1, 0], 0), ([1, 1], 1)]\n",
        "\n",
        "#NOT Truth Table ((x),output)\n",
        "notset=[([0],1),([1],0)]"
      ],
      "metadata": {
        "id": "EiTLLjWu-LvP"
      },
      "execution_count": null,
      "outputs": []
    },
    {
      "cell_type": "code",
      "execution_count": null,
      "metadata": {
        "colab": {
          "base_uri": "https://localhost:8080/"
        },
        "id": "q3vE3hIpmyf1",
        "outputId": "f833c9d5-b069-4b62-f4c6-1a573402c4ab"
      },
      "outputs": [
        {
          "output_type": "stream",
          "name": "stdout",
          "text": [
            "-1.137027771350104\n",
            "0.2428666242556165\n"
          ]
        }
      ],
      "source": [
        "#SIGMOID ACTIVATION FUNCTION\n",
        "import random\n",
        "\n",
        "#XOR_Truth_Table\n",
        "exset=[([0, 0], 0), ([0, 1], 1), ([1, 0], 1), ([1, 1], 0)]\n",
        "\n",
        "#OR Truth Table ((x,y),output)\n",
        "orset=[([0, 0], 0), ([0, 1], 1), ([1, 0], 1), ([1, 1], 1)]\n",
        "\n",
        "#AND Truth Table ((x,y),output)\n",
        "andset=[([0, 0], 0), ([0, 1], 0), ([1, 0], 0), ([1, 1], 1)]\n",
        "\n",
        "#NOT Truth Table ((x),output)\n",
        "notset=[([0],1),([1],0)]\n",
        "\n",
        "def sigmoid(n):\n",
        "  x=1+pow(2.71828,-n)\n",
        "  return 1/x\n",
        "\n",
        "wt=[random.uniform(-1, 1) for _ in range(2)]\n",
        "wtsum=0\n",
        "for i,j in exset:\n",
        "  for x in range(len(i)):\n",
        "    temp=wt[x]*i[x]\n",
        "    wtsum+=temp\n",
        "\n",
        "print(wtsum)\n",
        "print(sigmoid(wtsum))\n"
      ]
    },
    {
      "cell_type": "code",
      "source": [
        "#RELU ACTIVATION FUNCTION\n",
        "import random\n",
        "\n",
        "#XOR_Truth_Table\n",
        "exset=[([0, 0], 0), ([0, 1], 1), ([1, 0], 1), ([1, 1], 0)]\n",
        "\n",
        "def reLUFun(n):\n",
        "  return max(0,n)\n",
        "\n",
        "wt=[random.uniform(-1, 1) for _ in range(2)]\n",
        "wtsum=0\n",
        "for i,j in exset:\n",
        "  for x in range(len(i)):\n",
        "    temp=wt[x]*i[x]\n",
        "    wtsum+=temp\n",
        "\n",
        "print(wtsum)\n",
        "print(reLUFun(wtsum))\n"
      ],
      "metadata": {
        "colab": {
          "base_uri": "https://localhost:8080/"
        },
        "id": "kL5JzXoN3P53",
        "outputId": "1885b4dd-2e23-4cfa-b083-2d53dc3dee35"
      },
      "execution_count": null,
      "outputs": [
        {
          "output_type": "stream",
          "name": "stdout",
          "text": [
            "0.600375630793851\n",
            "0.600375630793851\n"
          ]
        }
      ]
    },
    {
      "cell_type": "code",
      "source": [
        "#HYPERBOLIC TAN (TanH) ACTIVATION FUNCTION\n",
        "import random\n",
        "\n",
        "#XOR_Truth_Table\n",
        "exset=[([0, 0], 0), ([0, 1], 1), ([1, 0], 1), ([1, 1], 0)]\n",
        "\n",
        "def tanHfun(n):\n",
        "  x=pow(2.71828,-n)\n",
        "  y=pow(2.71828,n)\n",
        "  temp=(x-y)/x+y\n",
        "  return temp\n",
        "\n",
        "wt=[random.uniform(-1, 1) for _ in range(2)]\n",
        "wtsum=0\n",
        "for i,j in exset:\n",
        "  for x in range(len(i)):\n",
        "    temp=wt[x]*i[x]\n",
        "    wtsum+=temp\n",
        "\n",
        "print(wtsum)\n",
        "print(tanHfun(wtsum))\n"
      ],
      "metadata": {
        "colab": {
          "base_uri": "https://localhost:8080/"
        },
        "id": "MDjvGg3T3Y7C",
        "outputId": "d3d99ce4-bbc6-4863-9603-72eaae8c6f32"
      },
      "execution_count": null,
      "outputs": [
        {
          "output_type": "stream",
          "name": "stdout",
          "text": [
            "1.2311128012834862\n",
            "-7.3058354122348454\n"
          ]
        }
      ]
    },
    {
      "cell_type": "code",
      "source": [
        "#LEAKY RELU ACTIVATION FUNCTION\n",
        "\n",
        "import random\n",
        "\n",
        "#XOR_Truth_Table\n",
        "exset=[([0, 0], 0), ([0, 1], 1), ([1, 0], 1), ([1, 1], 0)]\n",
        "\n",
        "def leakyreLUFun(n):\n",
        "  return max(0.1*n,n)\n",
        "\n",
        "wt=[random.uniform(-1, 1) for _ in range(2)]\n",
        "wtsum=0\n",
        "for i,j in exset:\n",
        "  for x in range(len(i)):\n",
        "    temp=wt[x]*i[x]\n",
        "    wtsum+=temp\n",
        "\n",
        "print(wtsum)\n",
        "print(leakyreLUFun(wtsum))"
      ],
      "metadata": {
        "colab": {
          "base_uri": "https://localhost:8080/"
        },
        "id": "VqAk4-X44Fq4",
        "outputId": "412ae3fc-1a1f-4818-dd9b-d066b143b61a"
      },
      "execution_count": null,
      "outputs": [
        {
          "output_type": "stream",
          "name": "stdout",
          "text": [
            "-2.3434007005293713\n",
            "-0.23434007005293714\n"
          ]
        }
      ]
    },
    {
      "cell_type": "code",
      "source": [
        "#SOFTMAX ACTIVATION FUNCTION\n",
        "import random\n",
        "import numpy as np\n",
        "\n",
        "\n",
        "#XOR_Truth_Table\n",
        "exset=[([0, 0], 0), ([0, 1], 1), ([1, 0], 1), ([1, 1], 0)]\n",
        "\n",
        "def softmaxFun(n):\n",
        "  x=np.exp(n)\n",
        "  xs=x.sum()\n",
        "  return x/xs\n",
        "\n",
        "wt=[random.uniform(-1, 1) for _ in range(2)]\n",
        "wtsum=0\n",
        "for i,j in exset:\n",
        "  for x in range(len(i)):\n",
        "    temp=wt[x]*i[x]\n",
        "    wtsum+=temp\n",
        "\n",
        "print(wtsum)\n",
        "print(softmaxFun(wtsum))"
      ],
      "metadata": {
        "colab": {
          "base_uri": "https://localhost:8080/"
        },
        "id": "s4-UXzC64N6r",
        "outputId": "735f9e13-14a5-4d2a-dfad-b0fa8ef6de0d"
      },
      "execution_count": null,
      "outputs": [
        {
          "output_type": "stream",
          "name": "stdout",
          "text": [
            "0.758103595874509\n",
            "1.0\n"
          ]
        }
      ]
    },
    {
      "cell_type": "code",
      "source": [
        "#LINEAR ACTIVATION FUNCTION\n",
        "import random\n",
        "\n",
        "#XOR_Truth_Table\n",
        "exset=[([0, 0], 0), ([0, 1], 1), ([1, 0], 1), ([1, 1], 0)]\n",
        "\n",
        "def linearAF(n):\n",
        "  return n\n",
        "\n",
        "wt=[random.uniform(-1, 1) for _ in range(2)]\n",
        "wtsum=0\n",
        "for i,j in exset:\n",
        "  for x in range(len(i)):\n",
        "    temp=wt[x]*i[x]\n",
        "    wtsum+=temp\n",
        "\n",
        "print(wtsum)\n",
        "print(linearAF(wtsum))"
      ],
      "metadata": {
        "colab": {
          "base_uri": "https://localhost:8080/"
        },
        "id": "ZEKR8uyu59NA",
        "outputId": "ef397f95-4aa0-4e00-8192-7dc29444111c"
      },
      "execution_count": null,
      "outputs": [
        {
          "output_type": "stream",
          "name": "stdout",
          "text": [
            "-1.9282646938203083\n",
            "-1.9282646938203083\n"
          ]
        }
      ]
    },
    {
      "cell_type": "code",
      "source": [
        "#BIPOLAR SIGMOID ACTIVATION FUNCTION\n",
        "import random\n",
        "\n",
        "#XOR_Truth_Table\n",
        "exset=[([0, 0], 0), ([0, 1], 1), ([1, 0], 1), ([1, 1], 0)]\n",
        "\n",
        "def bipolarSigmoid(n):\n",
        "  x=1+pow(2.71828,-n)\n",
        "  x=2/x\n",
        "  return -1+x\n",
        "\n",
        "wt=[random.uniform(-1, 1) for _ in range(2)]\n",
        "wtsum=0\n",
        "for i,j in exset:\n",
        "  for x in range(len(i)):\n",
        "    temp=wt[x]*i[x]\n",
        "    wtsum+=temp\n",
        "\n",
        "print(wtsum)\n",
        "print(bipolarSigmoid(wtsum))\n"
      ],
      "metadata": {
        "colab": {
          "base_uri": "https://localhost:8080/"
        },
        "id": "qZ1cww6A6U9F",
        "outputId": "8958fefa-5a64-4473-e2e5-ab4e5c78e5d1"
      },
      "execution_count": null,
      "outputs": [
        {
          "output_type": "stream",
          "name": "stdout",
          "text": [
            "0.18592148055901747\n",
            "0.09269382110234803\n"
          ]
        }
      ]
    },
    {
      "cell_type": "code",
      "source": [
        "#SOFTPLUS ACTIVATION FUNCTION\n",
        "import random\n",
        "import math\n",
        "\n",
        "#XOR_Truth_Table\n",
        "exset=[([0, 0], 0), ([0, 1], 1), ([1, 0], 1), ([1, 1], 0)]\n",
        "\n",
        "def softplus(n):\n",
        "  x=1+pow(2.71828,n)\n",
        "  return math.log(x)\n",
        "\n",
        "wt=[random.uniform(-1, 1) for _ in range(2)]\n",
        "wtsum=0\n",
        "for i,j in exset:\n",
        "  for x in range(len(i)):\n",
        "    temp=wt[x]*i[x]\n",
        "    wtsum+=temp\n",
        "\n",
        "print(wtsum)\n",
        "print(softplus(wtsum))\n"
      ],
      "metadata": {
        "colab": {
          "base_uri": "https://localhost:8080/"
        },
        "id": "2YJBTZAn6p45",
        "outputId": "24a2df32-de73-416c-eb5d-97ae927b599e"
      },
      "execution_count": null,
      "outputs": [
        {
          "output_type": "stream",
          "name": "stdout",
          "text": [
            "-3.8700458014614787\n",
            "0.020642929436869264\n"
          ]
        }
      ]
    }
  ]
}